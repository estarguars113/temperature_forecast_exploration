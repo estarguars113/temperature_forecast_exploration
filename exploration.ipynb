{
 "cells": [
  {
   "cell_type": "code",
   "execution_count": 10,
   "metadata": {},
   "outputs": [
    {
     "name": "stdout",
     "output_type": "stream",
     "text": [
      "    lat  lon       time        tmin  startStep  endStep\n",
      "0  45.0  4.0 2020-12-05  267.979614        0.0     24.0\n",
      "1  45.0  4.0 2020-12-06  269.063660       24.0     48.0\n",
      "2  45.0  4.0 2020-12-07  269.149109       48.0     72.0\n",
      "3  45.0  4.0 2020-12-08  268.851990       72.0     96.0\n",
      "4  45.0  4.0 2020-12-09  266.737610       96.0    120.0\n",
      "    lat  lon       time        tmin  startStep  endStep\n",
      "0  45.0  4.0 2020-12-06  268.945221        0.0     24.0\n",
      "1  45.0  4.0 2020-12-07  268.537292       24.0     48.0\n",
      "2  45.0  4.0 2020-12-08  269.277618       48.0     72.0\n",
      "3  45.0  4.0 2020-12-09  268.295929       72.0     96.0\n",
      "4  45.0  4.0 2020-12-10  268.642853       96.0    120.0\n",
      "    lat  lon       time        tmin  startStep  endStep\n",
      "0  45.0  4.0 2020-12-07  269.501678        0.0     24.0\n",
      "1  45.0  4.0 2020-12-08  269.201233       24.0     48.0\n",
      "2  45.0  4.0 2020-12-09  268.853973       48.0     72.0\n",
      "3  45.0  4.0 2020-12-10  268.922058       72.0     96.0\n",
      "4  45.0  4.0 2020-12-11  270.859314       96.0    120.0\n",
      "    lat  lon       time        tmin  startStep  endStep\n",
      "0  45.0  4.0 2020-12-08  269.715637        0.0     24.0\n",
      "1  45.0  4.0 2020-12-09  269.765625       24.0     48.0\n",
      "2  45.0  4.0 2020-12-10  268.623657       48.0     72.0\n",
      "3  45.0  4.0 2020-12-11  274.841431       72.0     96.0\n",
      "4  45.0  4.0 2020-12-12  274.781158       96.0    120.0\n",
      "    lat  lon       time        tmin  startStep  endStep\n",
      "0  45.0  4.0 2020-12-09  270.028442        0.0     24.0\n",
      "1  45.0  4.0 2020-12-10  268.602081       24.0     48.0\n",
      "2  45.0  4.0 2020-12-11  274.380768       48.0     72.0\n",
      "3  45.0  4.0 2020-12-12  272.363281       72.0     96.0\n",
      "4  45.0  4.0 2020-12-13  269.007660       96.0    120.0\n",
      "    lat  lon       time        tmin  startStep  endStep\n",
      "0  45.0  4.0 2020-12-10  268.397644        0.0     24.0\n",
      "1  45.0  4.0 2020-12-11  272.771484       24.0     48.0\n",
      "2  45.0  4.0 2020-12-12  272.988678       48.0     72.0\n",
      "3  45.0  4.0 2020-12-13  269.032654       72.0     96.0\n",
      "4  45.0  4.0 2020-12-14  275.125122       96.0    120.0\n",
      "5670\n"
     ]
    }
   ],
   "source": [
    "import xarray as xr\n",
    "import pandas as pd\n",
    "from datetime import datetime\n",
    "\n",
    "year = 2020\n",
    "month = 12\n",
    "days = list(range(5,11))\n",
    "\n",
    "df_list = []\n",
    "for day in days:\n",
    "    file = f'data/{year}{month}{day:02}_tmin_15days_forecast.nc'\n",
    "\n",
    "    ds = xr.open_dataset(file)\n",
    "    df = ds.to_dataframe()\n",
    "\n",
    "    lyon_area_df = df[df.index.get_level_values('lat').isin([45.0, 46.0, 47.0])]\n",
    "    lyon_area_df = lyon_area_df[lyon_area_df.index.get_level_values('lon').isin([4.0, 5.0, 6.0])]\n",
    "    \n",
    "    #temp_df = lyon_area_df.droplevel([0,1], axis=\"index\")\n",
    "    temp_df = lyon_area_df.reset_index()\n",
    "    temp_df.drop('stepType', axis=1, inplace=True)\n",
    "    print(temp_df.head())\n",
    "    prediction_date = datetime(year, month, day)\n",
    "    temp_df['prediction_date'] = prediction_date\n",
    "    df_list.append(temp_df)\n",
    "\n",
    "aggregated_df = pd.concat(df_list, axis=0)\n",
    "aggregated_df.head()\n",
    "\n",
    "# types conversion\n",
    "numeric_colums = ['tmin', 'startStep', 'endStep']\n",
    "aggregated_df[numeric_colums] = aggregated_df[numeric_colums].apply(pd.to_numeric)\n",
    "\n",
    "# convert to datetime\n",
    "aggregated_df['time'] = aggregated_df['time'].apply(\n",
    "    pd.to_datetime, format='%Y-%m-%d'\n",
    ")\n",
    "\n",
    "print(aggregated_df.size)\n",
    "\n",
    "# save intermediate results\n",
    "aggregated_df.to_csv('stage_data/all_days.csv', sep=',', encoding='utf-8',index=False)"
   ]
  },
  {
   "cell_type": "code",
   "execution_count": 11,
   "metadata": {},
   "outputs": [
    {
     "name": "stdout",
     "output_type": "stream",
     "text": [
      "378\n"
     ]
    },
    {
     "data": {
      "text/html": [
       "<div>\n",
       "<style scoped>\n",
       "    .dataframe tbody tr th:only-of-type {\n",
       "        vertical-align: middle;\n",
       "    }\n",
       "\n",
       "    .dataframe tbody tr th {\n",
       "        vertical-align: top;\n",
       "    }\n",
       "\n",
       "    .dataframe thead th {\n",
       "        text-align: right;\n",
       "    }\n",
       "</style>\n",
       "<table border=\"1\" class=\"dataframe\">\n",
       "  <thead>\n",
       "    <tr style=\"text-align: right;\">\n",
       "      <th></th>\n",
       "      <th>lat</th>\n",
       "      <th>lon</th>\n",
       "      <th>time</th>\n",
       "      <th>tmin</th>\n",
       "      <th>startStep</th>\n",
       "      <th>endStep</th>\n",
       "      <th>prediction_date</th>\n",
       "    </tr>\n",
       "  </thead>\n",
       "  <tbody>\n",
       "    <tr>\n",
       "      <th>5</th>\n",
       "      <td>45.0</td>\n",
       "      <td>4.0</td>\n",
       "      <td>2020-12-10</td>\n",
       "      <td>267.317566</td>\n",
       "      <td>120.0</td>\n",
       "      <td>144.0</td>\n",
       "      <td>2020-12-05</td>\n",
       "    </tr>\n",
       "    <tr>\n",
       "      <th>20</th>\n",
       "      <td>45.0</td>\n",
       "      <td>5.0</td>\n",
       "      <td>2020-12-10</td>\n",
       "      <td>272.136536</td>\n",
       "      <td>120.0</td>\n",
       "      <td>144.0</td>\n",
       "      <td>2020-12-05</td>\n",
       "    </tr>\n",
       "    <tr>\n",
       "      <th>35</th>\n",
       "      <td>45.0</td>\n",
       "      <td>6.0</td>\n",
       "      <td>2020-12-10</td>\n",
       "      <td>262.137573</td>\n",
       "      <td>120.0</td>\n",
       "      <td>144.0</td>\n",
       "      <td>2020-12-05</td>\n",
       "    </tr>\n",
       "    <tr>\n",
       "      <th>50</th>\n",
       "      <td>46.0</td>\n",
       "      <td>4.0</td>\n",
       "      <td>2020-12-10</td>\n",
       "      <td>270.147583</td>\n",
       "      <td>120.0</td>\n",
       "      <td>144.0</td>\n",
       "      <td>2020-12-05</td>\n",
       "    </tr>\n",
       "    <tr>\n",
       "      <th>65</th>\n",
       "      <td>46.0</td>\n",
       "      <td>5.0</td>\n",
       "      <td>2020-12-10</td>\n",
       "      <td>271.356537</td>\n",
       "      <td>120.0</td>\n",
       "      <td>144.0</td>\n",
       "      <td>2020-12-05</td>\n",
       "    </tr>\n",
       "  </tbody>\n",
       "</table>\n",
       "</div>"
      ],
      "text/plain": [
       "     lat  lon       time        tmin  startStep  endStep prediction_date\n",
       "5   45.0  4.0 2020-12-10  267.317566      120.0    144.0      2020-12-05\n",
       "20  45.0  5.0 2020-12-10  272.136536      120.0    144.0      2020-12-05\n",
       "35  45.0  6.0 2020-12-10  262.137573      120.0    144.0      2020-12-05\n",
       "50  46.0  4.0 2020-12-10  270.147583      120.0    144.0      2020-12-05\n",
       "65  46.0  5.0 2020-12-10  271.356537      120.0    144.0      2020-12-05"
      ]
     },
     "execution_count": 11,
     "metadata": {},
     "output_type": "execute_result"
    }
   ],
   "source": [
    "# get results for specific date\n",
    "filtered_results = aggregated_df[aggregated_df['time'] == '2020-12-10']\n",
    "print(filtered_results.size)\n",
    "filtered_results.head()"
   ]
  },
  {
   "cell_type": "code",
   "execution_count": 12,
   "metadata": {},
   "outputs": [
    {
     "name": "stdout",
     "output_type": "stream",
     "text": [
      "Miminum temperature expected for day 2020-12-05T00:00:00.000000000 is 262.1375732421875\n",
      "Miminum temperature expected for day 2020-12-06T00:00:00.000000000 is 263.452880859375\n",
      "Miminum temperature expected for day 2020-12-07T00:00:00.000000000 is 264.1320495605469\n",
      "Miminum temperature expected for day 2020-12-08T00:00:00.000000000 is 263.95367431640625\n",
      "Miminum temperature expected for day 2020-12-09T00:00:00.000000000 is 263.8420715332031\n",
      "Miminum temperature expected for day 2020-12-10T00:00:00.000000000 is 263.6176452636719\n"
     ]
    }
   ],
   "source": [
    "prediction_dates = filtered_results['prediction_date'].unique()\n",
    "for prediction_date in prediction_dates:\n",
    "    day_predictions = filtered_results[filtered_results['prediction_date'] == prediction_date]\n",
    "    min_temperature_predicted = day_predictions['tmin'].min()\n",
    "    print(f'Miminum temperature expected for day {prediction_date} is {min_temperature_predicted}')"
   ]
  },
  {
   "cell_type": "code",
   "execution_count": 20,
   "metadata": {},
   "outputs": [
    {
     "data": {
      "text/html": [
       "<div>\n",
       "<style scoped>\n",
       "    .dataframe tbody tr th:only-of-type {\n",
       "        vertical-align: middle;\n",
       "    }\n",
       "\n",
       "    .dataframe tbody tr th {\n",
       "        vertical-align: top;\n",
       "    }\n",
       "\n",
       "    .dataframe thead th {\n",
       "        text-align: right;\n",
       "    }\n",
       "</style>\n",
       "<table border=\"1\" class=\"dataframe\">\n",
       "  <thead>\n",
       "    <tr style=\"text-align: right;\">\n",
       "      <th></th>\n",
       "      <th>lat</th>\n",
       "      <th>lon</th>\n",
       "      <th>time</th>\n",
       "      <th>tmin</th>\n",
       "      <th>startStep</th>\n",
       "      <th>endStep</th>\n",
       "      <th>prediction_date</th>\n",
       "    </tr>\n",
       "  </thead>\n",
       "  <tbody>\n",
       "    <tr>\n",
       "      <th>5</th>\n",
       "      <td>45.0</td>\n",
       "      <td>4.0</td>\n",
       "      <td>2020-12-10</td>\n",
       "      <td>267.317566</td>\n",
       "      <td>120.0</td>\n",
       "      <td>144.0</td>\n",
       "      <td>2020-12-05</td>\n",
       "    </tr>\n",
       "    <tr>\n",
       "      <th>20</th>\n",
       "      <td>45.0</td>\n",
       "      <td>5.0</td>\n",
       "      <td>2020-12-10</td>\n",
       "      <td>272.136536</td>\n",
       "      <td>120.0</td>\n",
       "      <td>144.0</td>\n",
       "      <td>2020-12-05</td>\n",
       "    </tr>\n",
       "    <tr>\n",
       "      <th>35</th>\n",
       "      <td>45.0</td>\n",
       "      <td>6.0</td>\n",
       "      <td>2020-12-10</td>\n",
       "      <td>262.137573</td>\n",
       "      <td>120.0</td>\n",
       "      <td>144.0</td>\n",
       "      <td>2020-12-05</td>\n",
       "    </tr>\n",
       "    <tr>\n",
       "      <th>50</th>\n",
       "      <td>46.0</td>\n",
       "      <td>4.0</td>\n",
       "      <td>2020-12-10</td>\n",
       "      <td>270.147583</td>\n",
       "      <td>120.0</td>\n",
       "      <td>144.0</td>\n",
       "      <td>2020-12-05</td>\n",
       "    </tr>\n",
       "    <tr>\n",
       "      <th>65</th>\n",
       "      <td>46.0</td>\n",
       "      <td>5.0</td>\n",
       "      <td>2020-12-10</td>\n",
       "      <td>271.356537</td>\n",
       "      <td>120.0</td>\n",
       "      <td>144.0</td>\n",
       "      <td>2020-12-05</td>\n",
       "    </tr>\n",
       "  </tbody>\n",
       "</table>\n",
       "</div>"
      ],
      "text/plain": [
       "     lat  lon       time        tmin  startStep  endStep prediction_date\n",
       "5   45.0  4.0 2020-12-10  267.317566      120.0    144.0      2020-12-05\n",
       "20  45.0  5.0 2020-12-10  272.136536      120.0    144.0      2020-12-05\n",
       "35  45.0  6.0 2020-12-10  262.137573      120.0    144.0      2020-12-05\n",
       "50  46.0  4.0 2020-12-10  270.147583      120.0    144.0      2020-12-05\n",
       "65  46.0  5.0 2020-12-10  271.356537      120.0    144.0      2020-12-05"
      ]
     },
     "execution_count": 20,
     "metadata": {},
     "output_type": "execute_result"
    }
   ],
   "source": [
    "filtered_results.head()"
   ]
  },
  {
   "cell_type": "code",
   "execution_count": 24,
   "metadata": {},
   "outputs": [
    {
     "name": "stdout",
     "output_type": "stream",
     "text": [
      "5      267.317566\n",
      "20     272.136536\n",
      "35     262.137573\n",
      "50     270.147583\n",
      "65     271.356537\n",
      "80     268.266541\n",
      "95     270.236511\n",
      "110    270.516541\n",
      "125    267.907593\n",
      "4      268.642853\n",
      "19     272.632721\n",
      "34     263.452881\n",
      "49     271.332855\n",
      "64     272.432861\n",
      "79     269.612854\n",
      "94     272.272858\n",
      "109    272.232727\n",
      "124    269.432861\n",
      "3      268.922058\n",
      "18     272.482056\n",
      "33     264.132050\n",
      "48     271.822052\n",
      "63     272.402039\n",
      "78     269.332062\n",
      "93     272.499695\n",
      "108    272.282043\n",
      "123    269.262054\n",
      "2      268.623657\n",
      "17     272.023682\n",
      "32     263.953674\n",
      "47     271.683655\n",
      "62     271.477356\n",
      "77     269.003662\n",
      "92     270.817352\n",
      "107    271.933655\n",
      "122    268.813660\n",
      "1      268.602081\n",
      "16     272.162079\n",
      "31     263.842072\n",
      "46     272.952087\n",
      "61     272.142090\n",
      "76     268.222076\n",
      "91     273.483063\n",
      "106    272.103058\n",
      "121    269.192078\n",
      "0      268.397644\n",
      "15     271.967651\n",
      "30     263.617645\n",
      "45     272.447662\n",
      "60     271.803833\n",
      "75     267.947662\n",
      "90     271.653809\n",
      "105    271.263824\n",
      "120    268.927643\n",
      "Name: tmin, dtype: float32\n"
     ]
    }
   ],
   "source": [
    "print(filtered_results['tmin'])"
   ]
  },
  {
   "cell_type": "code",
   "execution_count": 26,
   "metadata": {},
   "outputs": [
    {
     "data": {
      "application/vnd.plotly.v1+json": {
       "config": {
        "plotlyServerURL": "https://plot.ly"
       },
       "data": [
        {
         "hovertemplate": "prediction_date=%{x}<br>tmin=%{marker.color}<extra></extra>",
         "legendgroup": "",
         "marker": {
          "color": [
           267.31756591796875,
           272.13653564453125,
           262.1375732421875,
           270.1475830078125,
           271.3565368652344,
           268.26654052734375,
           270.23651123046875,
           270.51654052734375,
           267.9075927734375,
           268.6428527832031,
           272.6327209472656,
           263.452880859375,
           271.3328552246094,
           272.432861328125,
           269.61285400390625,
           272.2728576660156,
           272.23272705078125,
           269.432861328125,
           268.92205810546875,
           272.4820556640625,
           264.1320495605469,
           271.8220520019531,
           272.40203857421875,
           269.3320617675781,
           272.49969482421875,
           272.28204345703125,
           269.2620544433594,
           268.6236572265625,
           272.023681640625,
           263.95367431640625,
           271.68365478515625,
           271.47735595703125,
           269.003662109375,
           270.8173522949219,
           271.93365478515625,
           268.81365966796875,
           268.6020812988281,
           272.1620788574219,
           263.8420715332031,
           272.95208740234375,
           272.14208984375,
           268.2220764160156,
           273.4830627441406,
           272.1030578613281,
           269.19207763671875,
           268.39764404296875,
           271.9676513671875,
           263.6176452636719,
           272.4476623535156,
           271.8038330078125,
           267.9476623535156,
           271.65380859375,
           271.2638244628906,
           268.9276428222656
          ],
          "coloraxis": "coloraxis",
          "symbol": "circle"
         },
         "mode": "markers",
         "name": "",
         "orientation": "v",
         "showlegend": false,
         "type": "scatter",
         "x": [
          "2020-12-05T00:00:00",
          "2020-12-05T00:00:00",
          "2020-12-05T00:00:00",
          "2020-12-05T00:00:00",
          "2020-12-05T00:00:00",
          "2020-12-05T00:00:00",
          "2020-12-05T00:00:00",
          "2020-12-05T00:00:00",
          "2020-12-05T00:00:00",
          "2020-12-06T00:00:00",
          "2020-12-06T00:00:00",
          "2020-12-06T00:00:00",
          "2020-12-06T00:00:00",
          "2020-12-06T00:00:00",
          "2020-12-06T00:00:00",
          "2020-12-06T00:00:00",
          "2020-12-06T00:00:00",
          "2020-12-06T00:00:00",
          "2020-12-07T00:00:00",
          "2020-12-07T00:00:00",
          "2020-12-07T00:00:00",
          "2020-12-07T00:00:00",
          "2020-12-07T00:00:00",
          "2020-12-07T00:00:00",
          "2020-12-07T00:00:00",
          "2020-12-07T00:00:00",
          "2020-12-07T00:00:00",
          "2020-12-08T00:00:00",
          "2020-12-08T00:00:00",
          "2020-12-08T00:00:00",
          "2020-12-08T00:00:00",
          "2020-12-08T00:00:00",
          "2020-12-08T00:00:00",
          "2020-12-08T00:00:00",
          "2020-12-08T00:00:00",
          "2020-12-08T00:00:00",
          "2020-12-09T00:00:00",
          "2020-12-09T00:00:00",
          "2020-12-09T00:00:00",
          "2020-12-09T00:00:00",
          "2020-12-09T00:00:00",
          "2020-12-09T00:00:00",
          "2020-12-09T00:00:00",
          "2020-12-09T00:00:00",
          "2020-12-09T00:00:00",
          "2020-12-10T00:00:00",
          "2020-12-10T00:00:00",
          "2020-12-10T00:00:00",
          "2020-12-10T00:00:00",
          "2020-12-10T00:00:00",
          "2020-12-10T00:00:00",
          "2020-12-10T00:00:00",
          "2020-12-10T00:00:00",
          "2020-12-10T00:00:00"
         ],
         "xaxis": "x",
         "y": [
          267.31756591796875,
          272.13653564453125,
          262.1375732421875,
          270.1475830078125,
          271.3565368652344,
          268.26654052734375,
          270.23651123046875,
          270.51654052734375,
          267.9075927734375,
          268.6428527832031,
          272.6327209472656,
          263.452880859375,
          271.3328552246094,
          272.432861328125,
          269.61285400390625,
          272.2728576660156,
          272.23272705078125,
          269.432861328125,
          268.92205810546875,
          272.4820556640625,
          264.1320495605469,
          271.8220520019531,
          272.40203857421875,
          269.3320617675781,
          272.49969482421875,
          272.28204345703125,
          269.2620544433594,
          268.6236572265625,
          272.023681640625,
          263.95367431640625,
          271.68365478515625,
          271.47735595703125,
          269.003662109375,
          270.8173522949219,
          271.93365478515625,
          268.81365966796875,
          268.6020812988281,
          272.1620788574219,
          263.8420715332031,
          272.95208740234375,
          272.14208984375,
          268.2220764160156,
          273.4830627441406,
          272.1030578613281,
          269.19207763671875,
          268.39764404296875,
          271.9676513671875,
          263.6176452636719,
          272.4476623535156,
          271.8038330078125,
          267.9476623535156,
          271.65380859375,
          271.2638244628906,
          268.9276428222656
         ],
         "yaxis": "y"
        }
       ],
       "layout": {
        "coloraxis": {
         "colorbar": {
          "title": {
           "text": "tmin"
          }
         },
         "colorscale": [
          [
           0,
           "#0d0887"
          ],
          [
           0.1111111111111111,
           "#46039f"
          ],
          [
           0.2222222222222222,
           "#7201a8"
          ],
          [
           0.3333333333333333,
           "#9c179e"
          ],
          [
           0.4444444444444444,
           "#bd3786"
          ],
          [
           0.5555555555555556,
           "#d8576b"
          ],
          [
           0.6666666666666666,
           "#ed7953"
          ],
          [
           0.7777777777777778,
           "#fb9f3a"
          ],
          [
           0.8888888888888888,
           "#fdca26"
          ],
          [
           1,
           "#f0f921"
          ]
         ]
        },
        "legend": {
         "tracegroupgap": 0
        },
        "margin": {
         "t": 60
        },
        "template": {
         "data": {
          "bar": [
           {
            "error_x": {
             "color": "#2a3f5f"
            },
            "error_y": {
             "color": "#2a3f5f"
            },
            "marker": {
             "line": {
              "color": "#E5ECF6",
              "width": 0.5
             },
             "pattern": {
              "fillmode": "overlay",
              "size": 10,
              "solidity": 0.2
             }
            },
            "type": "bar"
           }
          ],
          "barpolar": [
           {
            "marker": {
             "line": {
              "color": "#E5ECF6",
              "width": 0.5
             },
             "pattern": {
              "fillmode": "overlay",
              "size": 10,
              "solidity": 0.2
             }
            },
            "type": "barpolar"
           }
          ],
          "carpet": [
           {
            "aaxis": {
             "endlinecolor": "#2a3f5f",
             "gridcolor": "white",
             "linecolor": "white",
             "minorgridcolor": "white",
             "startlinecolor": "#2a3f5f"
            },
            "baxis": {
             "endlinecolor": "#2a3f5f",
             "gridcolor": "white",
             "linecolor": "white",
             "minorgridcolor": "white",
             "startlinecolor": "#2a3f5f"
            },
            "type": "carpet"
           }
          ],
          "choropleth": [
           {
            "colorbar": {
             "outlinewidth": 0,
             "ticks": ""
            },
            "type": "choropleth"
           }
          ],
          "contour": [
           {
            "colorbar": {
             "outlinewidth": 0,
             "ticks": ""
            },
            "colorscale": [
             [
              0,
              "#0d0887"
             ],
             [
              0.1111111111111111,
              "#46039f"
             ],
             [
              0.2222222222222222,
              "#7201a8"
             ],
             [
              0.3333333333333333,
              "#9c179e"
             ],
             [
              0.4444444444444444,
              "#bd3786"
             ],
             [
              0.5555555555555556,
              "#d8576b"
             ],
             [
              0.6666666666666666,
              "#ed7953"
             ],
             [
              0.7777777777777778,
              "#fb9f3a"
             ],
             [
              0.8888888888888888,
              "#fdca26"
             ],
             [
              1,
              "#f0f921"
             ]
            ],
            "type": "contour"
           }
          ],
          "contourcarpet": [
           {
            "colorbar": {
             "outlinewidth": 0,
             "ticks": ""
            },
            "type": "contourcarpet"
           }
          ],
          "heatmap": [
           {
            "colorbar": {
             "outlinewidth": 0,
             "ticks": ""
            },
            "colorscale": [
             [
              0,
              "#0d0887"
             ],
             [
              0.1111111111111111,
              "#46039f"
             ],
             [
              0.2222222222222222,
              "#7201a8"
             ],
             [
              0.3333333333333333,
              "#9c179e"
             ],
             [
              0.4444444444444444,
              "#bd3786"
             ],
             [
              0.5555555555555556,
              "#d8576b"
             ],
             [
              0.6666666666666666,
              "#ed7953"
             ],
             [
              0.7777777777777778,
              "#fb9f3a"
             ],
             [
              0.8888888888888888,
              "#fdca26"
             ],
             [
              1,
              "#f0f921"
             ]
            ],
            "type": "heatmap"
           }
          ],
          "heatmapgl": [
           {
            "colorbar": {
             "outlinewidth": 0,
             "ticks": ""
            },
            "colorscale": [
             [
              0,
              "#0d0887"
             ],
             [
              0.1111111111111111,
              "#46039f"
             ],
             [
              0.2222222222222222,
              "#7201a8"
             ],
             [
              0.3333333333333333,
              "#9c179e"
             ],
             [
              0.4444444444444444,
              "#bd3786"
             ],
             [
              0.5555555555555556,
              "#d8576b"
             ],
             [
              0.6666666666666666,
              "#ed7953"
             ],
             [
              0.7777777777777778,
              "#fb9f3a"
             ],
             [
              0.8888888888888888,
              "#fdca26"
             ],
             [
              1,
              "#f0f921"
             ]
            ],
            "type": "heatmapgl"
           }
          ],
          "histogram": [
           {
            "marker": {
             "pattern": {
              "fillmode": "overlay",
              "size": 10,
              "solidity": 0.2
             }
            },
            "type": "histogram"
           }
          ],
          "histogram2d": [
           {
            "colorbar": {
             "outlinewidth": 0,
             "ticks": ""
            },
            "colorscale": [
             [
              0,
              "#0d0887"
             ],
             [
              0.1111111111111111,
              "#46039f"
             ],
             [
              0.2222222222222222,
              "#7201a8"
             ],
             [
              0.3333333333333333,
              "#9c179e"
             ],
             [
              0.4444444444444444,
              "#bd3786"
             ],
             [
              0.5555555555555556,
              "#d8576b"
             ],
             [
              0.6666666666666666,
              "#ed7953"
             ],
             [
              0.7777777777777778,
              "#fb9f3a"
             ],
             [
              0.8888888888888888,
              "#fdca26"
             ],
             [
              1,
              "#f0f921"
             ]
            ],
            "type": "histogram2d"
           }
          ],
          "histogram2dcontour": [
           {
            "colorbar": {
             "outlinewidth": 0,
             "ticks": ""
            },
            "colorscale": [
             [
              0,
              "#0d0887"
             ],
             [
              0.1111111111111111,
              "#46039f"
             ],
             [
              0.2222222222222222,
              "#7201a8"
             ],
             [
              0.3333333333333333,
              "#9c179e"
             ],
             [
              0.4444444444444444,
              "#bd3786"
             ],
             [
              0.5555555555555556,
              "#d8576b"
             ],
             [
              0.6666666666666666,
              "#ed7953"
             ],
             [
              0.7777777777777778,
              "#fb9f3a"
             ],
             [
              0.8888888888888888,
              "#fdca26"
             ],
             [
              1,
              "#f0f921"
             ]
            ],
            "type": "histogram2dcontour"
           }
          ],
          "mesh3d": [
           {
            "colorbar": {
             "outlinewidth": 0,
             "ticks": ""
            },
            "type": "mesh3d"
           }
          ],
          "parcoords": [
           {
            "line": {
             "colorbar": {
              "outlinewidth": 0,
              "ticks": ""
             }
            },
            "type": "parcoords"
           }
          ],
          "pie": [
           {
            "automargin": true,
            "type": "pie"
           }
          ],
          "scatter": [
           {
            "marker": {
             "colorbar": {
              "outlinewidth": 0,
              "ticks": ""
             }
            },
            "type": "scatter"
           }
          ],
          "scatter3d": [
           {
            "line": {
             "colorbar": {
              "outlinewidth": 0,
              "ticks": ""
             }
            },
            "marker": {
             "colorbar": {
              "outlinewidth": 0,
              "ticks": ""
             }
            },
            "type": "scatter3d"
           }
          ],
          "scattercarpet": [
           {
            "marker": {
             "colorbar": {
              "outlinewidth": 0,
              "ticks": ""
             }
            },
            "type": "scattercarpet"
           }
          ],
          "scattergeo": [
           {
            "marker": {
             "colorbar": {
              "outlinewidth": 0,
              "ticks": ""
             }
            },
            "type": "scattergeo"
           }
          ],
          "scattergl": [
           {
            "marker": {
             "colorbar": {
              "outlinewidth": 0,
              "ticks": ""
             }
            },
            "type": "scattergl"
           }
          ],
          "scattermapbox": [
           {
            "marker": {
             "colorbar": {
              "outlinewidth": 0,
              "ticks": ""
             }
            },
            "type": "scattermapbox"
           }
          ],
          "scatterpolar": [
           {
            "marker": {
             "colorbar": {
              "outlinewidth": 0,
              "ticks": ""
             }
            },
            "type": "scatterpolar"
           }
          ],
          "scatterpolargl": [
           {
            "marker": {
             "colorbar": {
              "outlinewidth": 0,
              "ticks": ""
             }
            },
            "type": "scatterpolargl"
           }
          ],
          "scatterternary": [
           {
            "marker": {
             "colorbar": {
              "outlinewidth": 0,
              "ticks": ""
             }
            },
            "type": "scatterternary"
           }
          ],
          "surface": [
           {
            "colorbar": {
             "outlinewidth": 0,
             "ticks": ""
            },
            "colorscale": [
             [
              0,
              "#0d0887"
             ],
             [
              0.1111111111111111,
              "#46039f"
             ],
             [
              0.2222222222222222,
              "#7201a8"
             ],
             [
              0.3333333333333333,
              "#9c179e"
             ],
             [
              0.4444444444444444,
              "#bd3786"
             ],
             [
              0.5555555555555556,
              "#d8576b"
             ],
             [
              0.6666666666666666,
              "#ed7953"
             ],
             [
              0.7777777777777778,
              "#fb9f3a"
             ],
             [
              0.8888888888888888,
              "#fdca26"
             ],
             [
              1,
              "#f0f921"
             ]
            ],
            "type": "surface"
           }
          ],
          "table": [
           {
            "cells": {
             "fill": {
              "color": "#EBF0F8"
             },
             "line": {
              "color": "white"
             }
            },
            "header": {
             "fill": {
              "color": "#C8D4E3"
             },
             "line": {
              "color": "white"
             }
            },
            "type": "table"
           }
          ]
         },
         "layout": {
          "annotationdefaults": {
           "arrowcolor": "#2a3f5f",
           "arrowhead": 0,
           "arrowwidth": 1
          },
          "autotypenumbers": "strict",
          "coloraxis": {
           "colorbar": {
            "outlinewidth": 0,
            "ticks": ""
           }
          },
          "colorscale": {
           "diverging": [
            [
             0,
             "#8e0152"
            ],
            [
             0.1,
             "#c51b7d"
            ],
            [
             0.2,
             "#de77ae"
            ],
            [
             0.3,
             "#f1b6da"
            ],
            [
             0.4,
             "#fde0ef"
            ],
            [
             0.5,
             "#f7f7f7"
            ],
            [
             0.6,
             "#e6f5d0"
            ],
            [
             0.7,
             "#b8e186"
            ],
            [
             0.8,
             "#7fbc41"
            ],
            [
             0.9,
             "#4d9221"
            ],
            [
             1,
             "#276419"
            ]
           ],
           "sequential": [
            [
             0,
             "#0d0887"
            ],
            [
             0.1111111111111111,
             "#46039f"
            ],
            [
             0.2222222222222222,
             "#7201a8"
            ],
            [
             0.3333333333333333,
             "#9c179e"
            ],
            [
             0.4444444444444444,
             "#bd3786"
            ],
            [
             0.5555555555555556,
             "#d8576b"
            ],
            [
             0.6666666666666666,
             "#ed7953"
            ],
            [
             0.7777777777777778,
             "#fb9f3a"
            ],
            [
             0.8888888888888888,
             "#fdca26"
            ],
            [
             1,
             "#f0f921"
            ]
           ],
           "sequentialminus": [
            [
             0,
             "#0d0887"
            ],
            [
             0.1111111111111111,
             "#46039f"
            ],
            [
             0.2222222222222222,
             "#7201a8"
            ],
            [
             0.3333333333333333,
             "#9c179e"
            ],
            [
             0.4444444444444444,
             "#bd3786"
            ],
            [
             0.5555555555555556,
             "#d8576b"
            ],
            [
             0.6666666666666666,
             "#ed7953"
            ],
            [
             0.7777777777777778,
             "#fb9f3a"
            ],
            [
             0.8888888888888888,
             "#fdca26"
            ],
            [
             1,
             "#f0f921"
            ]
           ]
          },
          "colorway": [
           "#636efa",
           "#EF553B",
           "#00cc96",
           "#ab63fa",
           "#FFA15A",
           "#19d3f3",
           "#FF6692",
           "#B6E880",
           "#FF97FF",
           "#FECB52"
          ],
          "font": {
           "color": "#2a3f5f"
          },
          "geo": {
           "bgcolor": "white",
           "lakecolor": "white",
           "landcolor": "#E5ECF6",
           "showlakes": true,
           "showland": true,
           "subunitcolor": "white"
          },
          "hoverlabel": {
           "align": "left"
          },
          "hovermode": "closest",
          "mapbox": {
           "style": "light"
          },
          "paper_bgcolor": "white",
          "plot_bgcolor": "#E5ECF6",
          "polar": {
           "angularaxis": {
            "gridcolor": "white",
            "linecolor": "white",
            "ticks": ""
           },
           "bgcolor": "#E5ECF6",
           "radialaxis": {
            "gridcolor": "white",
            "linecolor": "white",
            "ticks": ""
           }
          },
          "scene": {
           "xaxis": {
            "backgroundcolor": "#E5ECF6",
            "gridcolor": "white",
            "gridwidth": 2,
            "linecolor": "white",
            "showbackground": true,
            "ticks": "",
            "zerolinecolor": "white"
           },
           "yaxis": {
            "backgroundcolor": "#E5ECF6",
            "gridcolor": "white",
            "gridwidth": 2,
            "linecolor": "white",
            "showbackground": true,
            "ticks": "",
            "zerolinecolor": "white"
           },
           "zaxis": {
            "backgroundcolor": "#E5ECF6",
            "gridcolor": "white",
            "gridwidth": 2,
            "linecolor": "white",
            "showbackground": true,
            "ticks": "",
            "zerolinecolor": "white"
           }
          },
          "shapedefaults": {
           "line": {
            "color": "#2a3f5f"
           }
          },
          "ternary": {
           "aaxis": {
            "gridcolor": "white",
            "linecolor": "white",
            "ticks": ""
           },
           "baxis": {
            "gridcolor": "white",
            "linecolor": "white",
            "ticks": ""
           },
           "bgcolor": "#E5ECF6",
           "caxis": {
            "gridcolor": "white",
            "linecolor": "white",
            "ticks": ""
           }
          },
          "title": {
           "x": 0.05
          },
          "xaxis": {
           "automargin": true,
           "gridcolor": "white",
           "linecolor": "white",
           "ticks": "",
           "title": {
            "standoff": 15
           },
           "zerolinecolor": "white",
           "zerolinewidth": 2
          },
          "yaxis": {
           "automargin": true,
           "gridcolor": "white",
           "linecolor": "white",
           "ticks": "",
           "title": {
            "standoff": 15
           },
           "zerolinecolor": "white",
           "zerolinewidth": 2
          }
         }
        },
        "xaxis": {
         "anchor": "y",
         "domain": [
          0,
          1
         ],
         "title": {
          "text": "prediction_date"
         }
        },
        "yaxis": {
         "anchor": "x",
         "domain": [
          0,
          1
         ],
         "title": {
          "text": "tmin"
         }
        }
       }
      }
     },
     "metadata": {},
     "output_type": "display_data"
    }
   ],
   "source": [
    "import plotly.express as px\n",
    "import plotly.graph_objects as go\n",
    "\n",
    "\n",
    "fig = px.scatter(filtered_results, x=\"prediction_date\", y=\"tmin\", color='tmin')\n",
    "fig.show()"
   ]
  },
  {
   "cell_type": "code",
   "execution_count": 35,
   "metadata": {},
   "outputs": [
    {
     "name": "stdout",
     "output_type": "stream",
     "text": [
      "                       mean       std  count\n",
      "prediction_date                             \n",
      "2020-12-05       268.891449  3.001784      9\n",
      "2020-12-06       270.227264  2.947260      9\n",
      "2020-12-07       270.348450  2.788350      9\n",
      "2020-12-08       269.814484  2.599576      9\n",
      "2020-12-09       270.300079  3.110670      9\n"
     ]
    },
    {
     "data": {
      "text/html": [
       "<div>\n",
       "<style scoped>\n",
       "    .dataframe tbody tr th:only-of-type {\n",
       "        vertical-align: middle;\n",
       "    }\n",
       "\n",
       "    .dataframe tbody tr th {\n",
       "        vertical-align: top;\n",
       "    }\n",
       "\n",
       "    .dataframe thead th {\n",
       "        text-align: right;\n",
       "    }\n",
       "</style>\n",
       "<table border=\"1\" class=\"dataframe\">\n",
       "  <thead>\n",
       "    <tr style=\"text-align: right;\">\n",
       "      <th></th>\n",
       "      <th>mean</th>\n",
       "      <th>std</th>\n",
       "      <th>count</th>\n",
       "      <th>ci</th>\n",
       "      <th>ci_lower</th>\n",
       "      <th>ci_upper</th>\n",
       "    </tr>\n",
       "    <tr>\n",
       "      <th>prediction_date</th>\n",
       "      <th></th>\n",
       "      <th></th>\n",
       "      <th></th>\n",
       "      <th></th>\n",
       "      <th></th>\n",
       "      <th></th>\n",
       "    </tr>\n",
       "  </thead>\n",
       "  <tbody>\n",
       "    <tr>\n",
       "      <th>2020-12-05</th>\n",
       "      <td>268.891449</td>\n",
       "      <td>3.001784</td>\n",
       "      <td>9</td>\n",
       "      <td>1.961166</td>\n",
       "      <td>266.930283</td>\n",
       "      <td>270.852615</td>\n",
       "    </tr>\n",
       "    <tr>\n",
       "      <th>2020-12-06</th>\n",
       "      <td>270.227264</td>\n",
       "      <td>2.947260</td>\n",
       "      <td>9</td>\n",
       "      <td>1.925543</td>\n",
       "      <td>268.301721</td>\n",
       "      <td>272.152808</td>\n",
       "    </tr>\n",
       "    <tr>\n",
       "      <th>2020-12-07</th>\n",
       "      <td>270.348450</td>\n",
       "      <td>2.788350</td>\n",
       "      <td>9</td>\n",
       "      <td>1.821722</td>\n",
       "      <td>268.526728</td>\n",
       "      <td>272.170172</td>\n",
       "    </tr>\n",
       "    <tr>\n",
       "      <th>2020-12-08</th>\n",
       "      <td>269.814484</td>\n",
       "      <td>2.599576</td>\n",
       "      <td>9</td>\n",
       "      <td>1.698390</td>\n",
       "      <td>268.116094</td>\n",
       "      <td>271.512873</td>\n",
       "    </tr>\n",
       "    <tr>\n",
       "      <th>2020-12-09</th>\n",
       "      <td>270.300079</td>\n",
       "      <td>3.110670</td>\n",
       "      <td>9</td>\n",
       "      <td>2.032304</td>\n",
       "      <td>268.267775</td>\n",
       "      <td>272.332384</td>\n",
       "    </tr>\n",
       "  </tbody>\n",
       "</table>\n",
       "</div>"
      ],
      "text/plain": [
       "                       mean       std  count        ci    ci_lower    ci_upper\n",
       "prediction_date                                                               \n",
       "2020-12-05       268.891449  3.001784      9  1.961166  266.930283  270.852615\n",
       "2020-12-06       270.227264  2.947260      9  1.925543  268.301721  272.152808\n",
       "2020-12-07       270.348450  2.788350      9  1.821722  268.526728  272.170172\n",
       "2020-12-08       269.814484  2.599576      9  1.698390  268.116094  271.512873\n",
       "2020-12-09       270.300079  3.110670      9  2.032304  268.267775  272.332384"
      ]
     },
     "execution_count": 35,
     "metadata": {},
     "output_type": "execute_result"
    }
   ],
   "source": [
    "import numpy as np\n",
    "\n",
    "date_grouped = filtered_results.groupby('prediction_date')['tmin'].agg(['mean', 'std', 'count'])\n",
    "date_grouped['ci'] = 1.96 * date_grouped['std'] / np.sqrt(date_grouped['count']) # confindence interval\n",
    "date_grouped['ci_lower'] = date_grouped['mean'] - date_grouped['ci']\n",
    "date_grouped['ci_upper'] = date_grouped['mean'] + date_grouped['ci']\n",
    "date_grouped.head()"
   ]
  },
  {
   "cell_type": "code",
   "execution_count": null,
   "metadata": {},
   "outputs": [],
   "source": [
    "fig, ax = plt.subplots()\n",
    "x = df_grouped['pickup_date']\n",
    "ax.plot(x, df_grouped['mean'])\n",
    "ax.fill_between(\n",
    "    x, df_grouped['ci_lower'], df_grouped['ci_upper'], color='b', alpha=.15)\n",
    "ax.set_ylim(ymin=0)"
   ]
  }
 ],
 "metadata": {
  "kernelspec": {
   "display_name": "Python 3.9.12 ('base')",
   "language": "python",
   "name": "python3"
  },
  "language_info": {
   "codemirror_mode": {
    "name": "ipython",
    "version": 3
   },
   "file_extension": ".py",
   "mimetype": "text/x-python",
   "name": "python",
   "nbconvert_exporter": "python",
   "pygments_lexer": "ipython3",
   "version": "3.9.12"
  },
  "orig_nbformat": 4,
  "vscode": {
   "interpreter": {
    "hash": "c0ec2b40ae4ef85527e05aa571c30b68c4093f78a0ed66d52c8ca132ee0ab813"
   }
  }
 },
 "nbformat": 4,
 "nbformat_minor": 2
}
